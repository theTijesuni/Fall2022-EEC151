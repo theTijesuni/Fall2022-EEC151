{
  "nbformat": 4,
  "nbformat_minor": 0,
  "metadata": {
    "colab": {
      "provenance": [],
      "collapsed_sections": [],
      "include_colab_link": true
    },
    "kernelspec": {
      "name": "python3",
      "display_name": "Python 3"
    }
  },
  "cells": [
    {
      "cell_type": "markdown",
      "metadata": {
        "id": "view-in-github",
        "colab_type": "text"
      },
      "source": [
        "<a href=\"https://colab.research.google.com/github/theTijesuni/Fall2022-EEC151/blob/main/UCD_EEC151_FQ2022_CA1.ipynb\" target=\"_parent\"><img src=\"https://colab.research.google.com/assets/colab-badge.svg\" alt=\"Open In Colab\"/></a>"
      ]
    },
    {
      "cell_type": "code",
      "metadata": {
        "id": "2SkaMyw7QKzx"
      },
      "source": [
        "# UCD EEC 151 FQ2022\n",
        "# Computer Assignment 1\n",
        "# \n",
        "# Convolution.\n",
        "#\n",
        "# IMPORTS\n",
        "import numpy as np\n",
        "import scipy as sp\n",
        "import scipy.signal as sps\n",
        "import matplotlib.pyplot as plt"
      ],
      "execution_count": null,
      "outputs": []
    },
    {
      "cell_type": "markdown",
      "metadata": {
        "id": "qUmumFPmQkhb"
      },
      "source": [
        "Part 1.  Convolution.\n",
        "\n",
        "Consider a system which is going to process an input signal composed of relatively long pulses.  \n",
        "\n",
        "This system is the first-order difference (or \"backwards difference\") system, $y[n]=x[n] - x[n-1]$ .  \n",
        "\n",
        "Its impulse response is $h[n] = \\delta[n] - \\delta[n-1]$.\n",
        "\n",
        "The input signal has long strings of 0 followed by pulses of amplitude 1, which go on and off repeatedly.\n",
        "\n",
        "A simple signal with two such pulses is shown in the figure below.\n",
        "\n"
      ]
    },
    {
      "cell_type": "code",
      "metadata": {
        "id": "uSxwNLodQbp5",
        "colab": {
          "base_uri": "https://localhost:8080/",
          "height": 766
        },
        "outputId": "a159bf43-7283-4b28-d1cd-5f364b5dcbbe"
      },
      "source": [
        "# s is an input signal with some zeros, a 1-\"pulse\", zeros, and another pulse.\n",
        "# h = [1 -1] # backwards difference system\n",
        "# compute y = sps.convolve(h,s) # this is like the function conv() in MATLAB\n",
        "# plot the results\n",
        "\n",
        "s = np.zeros(80)\n",
        "s[10:30] = 1.0\n",
        "s[40:70] = 1.0\n",
        "\n",
        "h = np.array([1, -1])\n",
        "\n",
        "y = sps.convolve(h,s)\n",
        "\n",
        "f = plt.figure()\n",
        "plt.subplots_adjust(top=2.5) \n",
        "\n",
        "ax1 = f.add_subplot(3,1,1)\n",
        "ax1.stem(s,use_line_collection=True) # use_line_collection=True to suppress warning\n",
        "ax1.set(title=\"s\")\n",
        "\n",
        "ax2 = f.add_subplot(3,1,2,sharex=ax1)\n",
        "ax2.stem(h,use_line_collection=True) # use_line_collection=True to suppress warning\n",
        "ax2.set(title=\"h\")\n",
        "\n",
        "ax3 = f.add_subplot(3,1,3,sharex=ax1)\n",
        "ax3.stem(y,use_line_collection=True) # use_line_collection=True to suppress warning\n",
        "ax3.set(title=\"y = convolve(h,s)\")\n",
        "\n"
      ],
      "execution_count": null,
      "outputs": [
        {
          "output_type": "execute_result",
          "data": {
            "text/plain": [
              "[Text(0.5, 1.0, 'y = convolve(h,s)')]"
            ]
          },
          "metadata": {},
          "execution_count": 3
        },
        {
          "output_type": "display_data",
          "data": {
            "text/plain": [
              "<Figure size 432x288 with 3 Axes>"
            ],
            "image/png": "[encoded data removed]"
          },
          "metadata": {
            "needs_background": "light"
          }
        }
      ]
    },
    {
      "cell_type": "markdown",
      "metadata": {
        "id": "CHgStMAkVEKl"
      },
      "source": [
        "Look at the output in this case, and in particular where the output is nonzero relative to the rectangular \"pulses\" in s.  "
      ]
    },
    {
      "cell_type": "markdown",
      "metadata": {
        "id": "iH2Iw4KEVwzS"
      },
      "source": [
        "Part 2.  Simple \"edge detector\" image processor.\n",
        "\n",
        "The output of the backwards difference system acts as a simple transition detector.  We can use this behavior to bulid a rudimentary edge detector for black-and-white images.  \n",
        "\n",
        "Consider an image as a 2D signal, and let's work with black-and-white images where 0 indicates black and 255 indicates white (this is the so-called additive color model that most computers use).  We can run this image through the backwards difference system, and \"detect\" the edges in the image.  This is a rudimentary operation that is a simple base operation that is done in computer vision applications.\n"
      ]
    },
    {
      "cell_type": "markdown",
      "metadata": {
        "id": "HppaweDWa-tC"
      },
      "source": [
        "First, we're going to have to tweak how we apply convolution to work better with images.  This is where the rubber meets the road, the difference between theory and working with data.  \n",
        "\n",
        "See the docs for scipy's `convolve()` function at https://docs.scipy.org/doc/scipy/reference/generated/scipy.signal.convolve.html.  We are going to process this image as a set of 1D signals by going through each row of the image, and then each column.\n",
        "\n",
        "Note we are NOT going to use scipy's 2D convolution function `convolve2d` (you may NOT use this to complete the assignment).\n",
        "\n",
        "We're going to use it with a mode called overlap = same, to get rid of the extra samples due to the full convolution (a length L sequence convolved with length M always gives L+M-1 samples output).  Next we're going to need to do something about the negative outputs.  For simplicity, we will just reflect them using the absolute value (and we don't care if an edge is \"starting\" or \"ending\").\n",
        "\n",
        "Real data processing is often \"messy\" in this sense, where we need to handle edge cases like mapping outputs back to some valid data range."
      ]
    },
    {
      "cell_type": "code",
      "metadata": {
        "id": "Dt9Xxddsa5Ec",
        "colab": {
          "base_uri": "https://localhost:8080/",
          "height": 766
        },
        "outputId": "88a75ccc-d93c-44b0-cac2-ef79fca7882c"
      },
      "source": [
        "y_adj = np.absolute( sps.convolve(s,h,mode=\"same\") )\n",
        "\n",
        "f = plt.figure()\n",
        "plt.subplots_adjust(top=2.5) # push subplots apart so titles are readable\n",
        "\n",
        "ax1 = f.add_subplot(2,1,1)\n",
        "ax1.stem(s,use_line_collection=True)\n",
        "ax1.set(title=\"s\")\n",
        "\n",
        "ax2 = f.add_subplot(2,1,2,sharex=ax1)\n",
        "ax2.stem(y_adj,use_line_collection=True)\n",
        "ax2.set(title=\"y = abs( convolve(h,s,mode='same') )\")\n"
      ],
      "execution_count": null,
      "outputs": [
        {
          "output_type": "execute_result",
          "data": {
            "text/plain": [
              "[Text(0.5, 1.0, \"y = abs( convolve(h,s,mode='same') )\")]"
            ]
          },
          "metadata": {},
          "execution_count": 6
        },
        {
          "output_type": "display_data",
          "data": {
            "image/png": "[encoded data removed]",
            "text/plain": [
              "<Figure size 432x288 with 2 Axes>"
            ]
          },
          "metadata": {
            "needs_background": "light"
          }
        }
      ]
    },
    {
      "cell_type": "markdown",
      "metadata": {
        "id": "T_Q0UiJLdkcQ"
      },
      "source": [
        "Now for the part where you add code!\n",
        "\n",
        "If using MATLAB to do this assignment, look at functions like `imread()`, `conv()`, and `abs()`.  Plot with `imshow()`.\n",
        "\n",
        "The image I would like to be processed is https://www.ece.ucdavis.edu/~njacklin/eec151/CA1/plus.png .\n"
      ]
    },
    {
      "cell_type": "code",
      "metadata": {
        "id": "VPGSE8DdVvOw",
        "colab": {
          "base_uri": "https://localhost:8080/",
          "height": 281
        },
        "outputId": "a70be395-bf5d-473e-d6ef-c1c694995eb8"
      },
      "source": [
        "# load image file as 100x100 array\n",
        "# good PIL documentation: https://pillow.readthedocs.io/en/stable/reference/Image.html\n",
        "\n",
        "\n",
        "from PIL import Image # Python Image Library (PIL)\n",
        "from urllib.request import urlopen # open files from URL -- no saving required\n",
        "\n",
        "img_url = 'https://www.ece.ucdavis.edu/~njacklin/eec151/CA1/plus.png'\n",
        "image = np.asarray(Image.open(urlopen(img_url)).convert('L')) # read in as grayscale image\n",
        "# note that black = 0 and white = 255\n",
        "\n",
        "f_orig = plt.figure()\n",
        "plt.imshow(image, cmap=\"gray\")\n",
        "plt.title(\"input image\")\n",
        "plt.show()\n",
        "\n",
        "temp_output_1 = np.zeros((image.shape)) # store convolutions by rows\n",
        "temp_output_2 = np.zeros((image.shape)) # store convolutions by columns\n",
        "\n",
        "# basic steps/pseudocode:\n",
        "# (1) run each row of the original input image through convolve with h, \n",
        "#     take absolute value, store in temp output 1\n",
        "# (2) run each column of original input through convolve with h, \n",
        "#     take absolute value, store in temp output 2\n",
        "# (3) add temp outputs together to make output image\n",
        "\n",
        "# ADD CODE HERE - compute convolutions by row, then by column, then combine (10 points)\n",
        "\n",
        "\n",
        "\n",
        "# ADD PLOTTING CODE HERE - plot each temporary output, then the combined output (5 points)\n",
        "# note: add short titles describing the meaning of each partial output\n",
        "\n",
        "\n",
        "\n",
        "\n",
        "# What does the overall output image look like in relation to the input? (5 points)\n",
        "\n"
      ],
      "execution_count": null,
      "outputs": [
        {
          "output_type": "display_data",
          "data": {
            "text/plain": [
              "<Figure size 432x288 with 1 Axes>"
            ],
            "image/png": "[encoded data removed]"
          },
          "metadata": {
            "needs_background": "light"
          }
        }
      ]
    },
    {
      "cell_type": "code",
      "metadata": {
        "id": "dVIMkhqAz2_6"
      },
      "source": [],
      "execution_count": null,
      "outputs": []
    }
  ]
}